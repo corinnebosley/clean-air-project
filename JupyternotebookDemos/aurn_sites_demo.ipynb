{
 "metadata": {
  "language_info": {
   "codemirror_mode": {
    "name": "ipython",
    "version": 3
   },
   "file_extension": ".py",
   "mimetype": "text/x-python",
   "name": "python",
   "nbconvert_exporter": "python",
   "pygments_lexer": "ipython3",
   "version": "3.8.8"
  },
  "orig_nbformat": 2,
  "kernelspec": {
   "name": "python3",
   "display_name": "Python 3.8.8 64-bit ('cap_env': conda)"
  },
  "metadata": {
   "interpreter": {
    "hash": "4a32046c9a539e5af651d31d16d731bc66043fb975e8f6f707a391af85eb80f9"
   }
  },
  "interpreter": {
   "hash": "0478b7aab401a178f5eec891e5cdc6b15df6b340900551849a66c95b1c235963"
  }
 },
 "nbformat": 4,
 "nbformat_minor": 2,
 "cells": [
  {
   "cell_type": "code",
   "execution_count": 1,
   "metadata": {},
   "outputs": [
    {
     "output_type": "error",
     "ename": "ModuleNotFoundError",
     "evalue": "No module named 'clean_air'",
     "traceback": [
      "\u001b[0;31m---------------------------------------------------------------------------\u001b[0m",
      "\u001b[0;31mModuleNotFoundError\u001b[0m                       Traceback (most recent call last)",
      "\u001b[0;32m<ipython-input-1-3c20359d822d>\u001b[0m in \u001b[0;36m<module>\u001b[0;34m\u001b[0m\n\u001b[0;32m----> 1\u001b[0;31m \u001b[0;32mfrom\u001b[0m \u001b[0mclean_air\u001b[0m\u001b[0;34m.\u001b[0m\u001b[0mvisualise\u001b[0m \u001b[0;32mimport\u001b[0m \u001b[0mgenerate_map_based_visulisations\u001b[0m \u001b[0;32mas\u001b[0m \u001b[0mgmbv\u001b[0m\u001b[0;34m\u001b[0m\u001b[0;34m\u001b[0m\u001b[0m\n\u001b[0m\u001b[1;32m      2\u001b[0m \u001b[0mgmbv\u001b[0m\u001b[0;34m.\u001b[0m\u001b[0mget_aurn__sites_map\u001b[0m\u001b[0;34m\u001b[0m\u001b[0;34m\u001b[0m\u001b[0m\n\u001b[1;32m      3\u001b[0m \u001b[0mdisplay\u001b[0m\u001b[0;34m(\u001b[0m\u001b[0mmap\u001b[0m\u001b[0;34m)\u001b[0m\u001b[0;34m\u001b[0m\u001b[0;34m\u001b[0m\u001b[0m\n",
      "\u001b[0;31mModuleNotFoundError\u001b[0m: No module named 'clean_air'"
     ]
    }
   ],
   "source": [
    "from clean_air.visualise import generate_map_based_visulisations as gmbv\n",
    "gmbv.get_aurn__sites_map\n",
    "display(map)\n"
   ]
  },
  {
   "cell_type": "code",
   "execution_count": 3,
   "metadata": {},
   "outputs": [],
   "source": []
  },
  {
   "cell_type": "code",
   "execution_count": null,
   "metadata": {},
   "outputs": [],
   "source": []
  }
 ]
}