{
 "cells": [
  {
   "cell_type": "code",
   "execution_count": 15,
   "source": [
    "import folium\n",
    "from clean_air.visualise import generate_map_based_visulisations as gmbv"
   ],
   "outputs": [],
   "metadata": {}
  },
  {
   "cell_type": "code",
   "execution_count": 16,
   "source": [
    "tracks_map = gmbv.get_aircraft_track_map()"
   ],
   "outputs": [
    {
     "output_type": "error",
     "ename": "TypeError",
     "evalue": "get_aircraft_track_map() missing 1 required positional argument: 'aircraft_track_coords'",
     "traceback": [
      "\u001b[0;31m---------------------------------------------------------------------------\u001b[0m",
      "\u001b[0;31mTypeError\u001b[0m                                 Traceback (most recent call last)",
      "\u001b[0;32m<ipython-input-16-9336bc5a547c>\u001b[0m in \u001b[0;36m<module>\u001b[0;34m\u001b[0m\n\u001b[0;32m----> 1\u001b[0;31m \u001b[0mtracks_map\u001b[0m \u001b[0;34m=\u001b[0m \u001b[0mgmbv\u001b[0m\u001b[0;34m.\u001b[0m\u001b[0mget_aircraft_track_map\u001b[0m\u001b[0;34m(\u001b[0m\u001b[0;34m)\u001b[0m\u001b[0;34m\u001b[0m\u001b[0;34m\u001b[0m\u001b[0m\n\u001b[0m",
      "\u001b[0;31mTypeError\u001b[0m: get_aircraft_track_map() missing 1 required positional argument: 'aircraft_track_coords'"
     ]
    }
   ],
   "metadata": {}
  },
  {
   "cell_type": "code",
   "execution_count": null,
   "source": [
    "display(tracks_map)"
   ],
   "outputs": [],
   "metadata": {}
  },
  {
   "cell_type": "code",
   "execution_count": null,
   "source": [
    "type(tracks_map)"
   ],
   "outputs": [],
   "metadata": {}
  }
 ],
 "metadata": {
  "orig_nbformat": 4,
  "language_info": {
   "name": "python",
   "version": "3.8.8",
   "mimetype": "text/x-python",
   "codemirror_mode": {
    "name": "ipython",
    "version": 3
   },
   "pygments_lexer": "ipython3",
   "nbconvert_exporter": "python",
   "file_extension": ".py"
  },
  "kernelspec": {
   "name": "python3",
   "display_name": "Python 3.8.8 64-bit ('cap_env': conda)"
  },
  "interpreter": {
   "hash": "0478b7aab401a178f5eec891e5cdc6b15df6b340900551849a66c95b1c235963"
  }
 },
 "nbformat": 4,
 "nbformat_minor": 2
}